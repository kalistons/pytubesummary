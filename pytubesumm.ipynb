{
 "cells": [
  {
   "cell_type": "markdown",
   "metadata": {},
   "source": [
    "Use Open AI para resumir em texto os videos do Youtube. \n",
    "ref: https://drlee.io/transforming-audio-to-text-with-openais-speech-to-text-api-a-practical-step-by-step-guide-8139e4e65fdf"
   ]
  },
  {
   "cell_type": "code",
   "execution_count": null,
   "metadata": {},
   "outputs": [],
   "source": [
    "pip install pytubefix ffmpeg-python openai python-dotenv ollama"
   ]
  },
  {
   "cell_type": "code",
   "execution_count": null,
   "metadata": {},
   "outputs": [],
   "source": [
    "from pytubefix import YouTube\n",
    "from pytubefix.cli import on_progress\n",
    "import os\n",
    "\n",
    "url = input()\n",
    "yt = YouTube(url,  on_progress_callback = on_progress)\n",
    "\n",
    "ys = yt.streams.get_audio_only()\n",
    "result = ys.download(mp3=True) \n",
    "print(\"Downloading...\")\n",
    "base, ext = os.path.splitext(result)\n",
    "new_MP3_file = base + '.mp3'\n",
    "os.rename(result, new_MP3_file)\n",
    "print(\"Downloading... Done\")\n"
   ]
  },
  {
   "cell_type": "code",
   "execution_count": null,
   "metadata": {},
   "outputs": [],
   "source": [
    "from openai import OpenAI\n",
    "from dotenv import load_dotenv\n",
    "\n",
    "load_dotenv()\n",
    "\n",
    "OPENAI_API_KEY = os.getenv('OPENAI_API_KEY')\n",
    "client = OpenAI(\n",
    "    # This is the default and can be omitted\n",
    "    api_key=OPENAI_API_KEY\n",
    ")\n",
    "\n",
    "audio_file = open(new_MP3_file, \"rb\")\n",
    "TRANSCRIPT_MODEL=\"whisper-1\"\n",
    "transcript = client.audio.transcriptions.create(\n",
    "  model=TRANSCRIPT_MODEL, \n",
    "  file=audio_file, \n",
    "  response_format=\"text\"\n",
    ")\n",
    "\n",
    "\n",
    "stream = client.chat.completions.create(\n",
    "    model=TRANSCRIPT_MODEL,\n",
    "    messages=[\n",
    "      {\"role\": \"system\", \n",
    "      \"content\": \"Você é um assintente que resume audios e videos e formata a resposta em Markdown\"},\n",
    "        {\"role\": \"user\", \n",
    "        \"content\": \"Por favor, descreva o seguinte video: \" + transcript}],\n",
    "    stream=True,\n",
    ")\n",
    "for chunk in stream:\n",
    "    print(chunk.choices[0].delta.content or \"\", end=\"\")"
   ]
  }
 ],
 "metadata": {
  "kernelspec": {
   "display_name": "Python 3",
   "language": "python",
   "name": "python3"
  },
  "language_info": {
   "codemirror_mode": {
    "name": "ipython",
    "version": 3
   },
   "file_extension": ".py",
   "mimetype": "text/x-python",
   "name": "python",
   "nbconvert_exporter": "python",
   "pygments_lexer": "ipython3",
   "version": "3.11.9"
  }
 },
 "nbformat": 4,
 "nbformat_minor": 2
}
